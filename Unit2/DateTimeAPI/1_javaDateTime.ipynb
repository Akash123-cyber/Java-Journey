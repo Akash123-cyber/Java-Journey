{
 "cells": [
  {
   "cell_type": "markdown",
   "metadata": {},
   "source": [
    "```java\n",
    "package Unit2.DateTimeAPI;\n",
    "```\n",
    "\n",
    "# <u>Introduction</u>\n",
    "\n",
    "##### New DateTime API is introduced in JDK8.\n",
    "\n",
    "##### LocalDate, LocalTime and LocalDateTime classes are provided in `java.time` package.\n",
    "\n",
    "# <u>Java Date and Time API goals </u>\n",
    "\n",
    "- Classes and methods should be straight forward.\n",
    "- The API should support fluent API approach.\n",
    "- **Instances** of Date and Time objects should be **immutable**\n",
    "- Should be **thread safe**.\n",
    "- Use **ISO standard** to define Date and Time.\n",
    "- API should support **strong type checks.**\n",
    "- Allows developers **to extend API**.\n",
    "\n",
    "# <u>Working with Local Date and Time</u>\n",
    "\n",
    "```java\n",
    "java.time\n",
    "```\n",
    "- `java.time` package provides two classes for working with local Date and Time.\n",
    "- **Local Date** \n",
    "    - Does not include time\n",
    "    - A year-month-day representation\n",
    "    - toString -ISO 8601 format(YYY-MM-DD)\n",
    "\n",
    "- **LocalTime**\n",
    "    - Does not include date\n",
    "    - stores hours:minutes:seconds:nanoseconds\n",
    "    - toString -(HH:mm:ss:SSS)\n",
    "    \n",
    "\n",
    "\n",
    "\n",
    "\n",
    "\n",
    "    \n"
   ]
  }
 ],
 "metadata": {
  "language_info": {
   "name": "python"
  }
 },
 "nbformat": 4,
 "nbformat_minor": 2
}
